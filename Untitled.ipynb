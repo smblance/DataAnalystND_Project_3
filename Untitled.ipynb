{
 "cells": [
  {
   "cell_type": "markdown",
   "metadata": {},
   "source": [
    "#OpenStreetMap Project\n",
    "##Data Wrangling With MongoDB\n",
    "##Data Analyst NanoDegree\n",
    "###Mark Ayzenshtadt\n",
    "\n",
    "Map Area: Moscow (South-Western part), Russia.\n",
    "\n",
    "1.\tProblems Encountered in the Map\n",
    "The main problems encountered in the map are:\n",
    "-\tInconsistent house numbers\n",
    "-\tInconsistent phone numbers\n",
    "Inconsistent house numbers.\n",
    "\tThe house numbers can sometimes have letters in it, e.g. 11a.\n",
    "\tAlso, if a house has several buildings, the building type and number or letter is added.\n",
    "\tThe building type can be “корпус” (corpus) or “строение” (stroyenie), depending on whether or not it has a separate entry from the street, and it can also be a “владение” (vladeniye), if it is a custom-built structure or even not a building (e.g. construction site).\n",
    "\tIn some cases, a house can have multiple building types and numbers: “14 к2с1” \n",
    "\tIf a house stands on street intersection, it gets numbers from both streets, divided by a slash symbol, e.g. 5/16.\n",
    "\tIf a house was built in place of several demolished houses, its number is a range with a dash symbol: 7-11.\n",
    "\tEverything above is only valid for Moscow, and in other cities houses are numbered differently.\n",
    "\n",
    "Inconsistent phone numbers.\n",
    "\tThe phone numbers can have various formats, for example: +7 495 1234567, +7-495-123-45-67, +7(495)123-45-67. \n",
    "\tThe external code of Russia (+7), can be substituted for 8, the internal code for calling outside your phone zone.\n",
    "\tObjects can have several phone numbers, separated by either a dot or semicolon.\n",
    "\n",
    "2.\tData Overview.\n",
    "The basic statistics of the dataset and the MongoDB Queries.\n",
    "\n",
    "Size:\n",
    "Moscow - SW.osm – 55.2 MB\n",
    "data.json – 60.3 MB\n",
    "data_cleaned.json – 57.8 MB\n",
    "\n",
    "Number of documents: 261608\t\n",
    "db.main.count()\n",
    "\n",
    "Number of nodes: 217574\n",
    "db.main.find({'type':'node'}).count()\n",
    "\n",
    "Number of ways: 41391\n",
    "db.main.find({'type':'way'}).count()\n",
    "\n",
    "\n",
    "Number of unique users: 729\n",
    "Top contributing user: name - Павел Гетманцев, entries - 17928.\n",
    "Users, who made at least 1% of entries each: 22.\n",
    "These users combined made 64% of the entries.\n",
    "So, users, who made less than 1% of entries (less than 2616), together made 35% of the entries.\n",
    "The 423 least contributing users combined made 1% of entries. Each of them made 25 entries or less.\n",
    "user_data = db.main.aggregate([\\\n",
    "\t{'$project': {'user':1, '_id':0}}, \\\n",
    "\t{'$group' : {'_id' : '$user', 'count':{'$sum':1}}}, \\\n",
    "\t{'$sort' : {'count': -1}}])\n",
    "\n",
    "\t\n",
    "3.\tAdditional ideas.\n",
    "The dataset can be used in any project that requires using \n"
   ]
  }
 ],
 "metadata": {
  "kernelspec": {
   "display_name": "Python 2",
   "language": "python",
   "name": "python2"
  },
  "language_info": {
   "codemirror_mode": {
    "name": "ipython",
    "version": 2
   },
   "file_extension": ".py",
   "mimetype": "text/x-python",
   "name": "python",
   "nbconvert_exporter": "python",
   "pygments_lexer": "ipython2",
   "version": "2.7.10"
  }
 },
 "nbformat": 4,
 "nbformat_minor": 0
}
